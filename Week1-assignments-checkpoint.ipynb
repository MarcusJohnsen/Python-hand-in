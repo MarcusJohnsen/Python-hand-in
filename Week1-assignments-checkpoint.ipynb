{
 "cells": [
  {
   "cell_type": "markdown",
   "metadata": {},
   "source": [
    "# 1. Create 5 list comprehensions to solve the following 5 problems:"
   ]
  },
  {
   "cell_type": "markdown",
   "metadata": {},
   "source": [
    "  1. Iterate a list of names to return a list of the names starting with H"
   ]
  },
  {
   "cell_type": "code",
   "execution_count": 9,
   "metadata": {},
   "outputs": [
    {
     "name": "stdout",
     "output_type": "stream",
     "text": [
      "['Hanne', 'Harald', 'Halfdan']\n"
     ]
    }
   ],
   "source": [
    "Names_list = [\"Hanne\", \"Thor\", \"Odin\", \"Loke\", \"Harald\", \"Flemming\", \"John\", \"Halfdan\"]\n",
    "\n",
    "Names_With_H_list = [element for element in Names_list if element[0] == \"H\"]\n",
    "\n",
    "print(Names_With_H_list)"
   ]
  },
  {
   "cell_type": "markdown",
   "metadata": {},
   "source": [
    "  2. In one line create a list of the numbers 1-100 to the power of 3"
   ]
  },
  {
   "cell_type": "code",
   "execution_count": 11,
   "metadata": {
    "scrolled": true
   },
   "outputs": [
    {
     "name": "stdout",
     "output_type": "stream",
     "text": [
      "[1, 8, 27, 64, 125, 216, 343, 512, 729, 1000, 1331, 1728, 2197, 2744, 3375, 4096, 4913, 5832, 6859, 8000, 9261, 10648, 12167, 13824, 15625, 17576, 19683, 21952, 24389, 27000, 29791, 32768, 35937, 39304, 42875, 46656, 50653, 54872, 59319, 64000, 68921, 74088, 79507, 85184, 91125, 97336, 103823, 110592, 117649, 125000, 132651, 140608, 148877, 157464, 166375, 175616, 185193, 195112, 205379, 216000, 226981, 238328, 250047, 262144, 274625, 287496, 300763, 314432, 328509, 343000, 357911, 373248, 389017, 405224, 421875, 438976, 456533, 474552, 493039, 512000, 531441, 551368, 571787, 592704, 614125, 636056, 658503, 681472, 704969, 729000, 753571, 778688, 804357, 830584, 857375, 884736, 912673, 941192, 970299, 1000000]\n"
     ]
    }
   ],
   "source": [
    "Numbers_list = list(element**3 for element in range(1,101))\n",
    "\n",
    "print(Numbers_list)"
   ]
  },
  {
   "cell_type": "markdown",
   "metadata": {},
   "source": [
    "3. Iterate a list of names to create a list of tuples where the tuples first value is the length of the name and the second is the name"
   ]
  },
  {
   "cell_type": "code",
   "execution_count": 13,
   "metadata": {
    "scrolled": true
   },
   "outputs": [
    {
     "name": "stdout",
     "output_type": "stream",
     "text": [
      "[(5, 'Hanne'), (4, 'Thor'), (4, 'Odin'), (4, 'Loke'), (6, 'Harald'), (8, 'Flemming'), (4, 'John'), (7, 'Halfdan')]\n"
     ]
    }
   ],
   "source": [
    "Length_list = list((len(element), element) for element in Names_list)\n",
    "#re-using \"Names-list\" from the first assignment. Already defined.\n",
    "\n",
    "print (Length_list)"
   ]
  },
  {
   "cell_type": "markdown",
   "metadata": {},
   "source": [
    "4. Iterate over each character in a string and get only those that are numeric"
   ]
  },
  {
   "cell_type": "code",
   "execution_count": 14,
   "metadata": {},
   "outputs": [
    {
     "name": "stdout",
     "output_type": "stream",
     "text": [
      "['3', '9', '5', '8', '1', '2', '4']\n"
     ]
    }
   ],
   "source": [
    "Numeric_String = \"hk3q95j8m124\"\n",
    "\n",
    "String_list = [element for element in Numeric_String if element.isnumeric()]\n",
    "\n",
    "print(String_list)\n"
   ]
  },
  {
   "cell_type": "markdown",
   "metadata": {},
   "source": [
    "5. Using only a list comprehension wrapped in set() get all possible combination from throwing 2 dice (hint use 2 for loops in a single list comprehension)"
   ]
  },
  {
   "cell_type": "code",
   "execution_count": null,
   "metadata": {},
   "outputs": [],
   "source": []
  },
  {
   "cell_type": "markdown",
   "metadata": {},
   "source": [
    "# 2. Create 2 dictionary comprehensions to solve the following:"
   ]
  },
  {
   "cell_type": "markdown",
   "metadata": {},
   "source": [
    "1. Iterate a list of names and create a dictionary where key is the name and value is the length of the name"
   ]
  },
  {
   "cell_type": "code",
   "execution_count": 15,
   "metadata": {},
   "outputs": [
    {
     "data": {
      "text/plain": [
       "{'Hanne': 5,\n",
       " 'Thor': 4,\n",
       " 'Odin': 4,\n",
       " 'Loke': 4,\n",
       " 'Harald': 6,\n",
       " 'Flemming': 8,\n",
       " 'John': 4,\n",
       " 'Halfdan': 7}"
      ]
     },
     "execution_count": 15,
     "metadata": {},
     "output_type": "execute_result"
    }
   ],
   "source": [
    "Names_dictionary = {element: len(element) for element in Names_list}\n",
    "#Once again re-using the \"Names_list\" list from assignment 1.\n",
    "\n",
    "Names_dictionary"
   ]
  },
  {
   "cell_type": "markdown",
   "metadata": {},
   "source": [
    "2. Iterate a list of numbers and create a dictionary with {key:value} being {number:squareroot_of_number}"
   ]
  },
  {
   "cell_type": "code",
   "execution_count": 18,
   "metadata": {},
   "outputs": [
    {
     "data": {
      "text/plain": [
       "{64: 8.0,\n",
       " 91: 9.539392014169456,\n",
       " 7: 2.6457513110645907,\n",
       " 185: 13.601470508735444,\n",
       " 19572: 139.8999642601813,\n",
       " 4: 2.0,\n",
       " 31: 5.5677643628300215,\n",
       " 4724: 68.73136110975832}"
      ]
     },
     "execution_count": 18,
     "metadata": {},
     "output_type": "execute_result"
    }
   ],
   "source": [
    ">>> import math\n",
    "#Importing the module \"math\" from the standard library\n",
    "\n",
    "Numbers_list = [64, 91, 7, 185, 19572, 4, 31, 4724]\n",
    "\n",
    "Numbers_dictionary = {element: math.sqrt(element) for element in Numbers_list}\n",
    "#The \"math\" module has a method for calculating the square root of numbers.\n",
    "\n",
    "Numbers_dictionary"
   ]
  }
 ],
 "metadata": {
  "kernelspec": {
   "display_name": "Python 3",
   "language": "python",
   "name": "python3"
  },
  "language_info": {
   "codemirror_mode": {
    "name": "ipython",
    "version": 3
   },
   "file_extension": ".py",
   "mimetype": "text/x-python",
   "name": "python",
   "nbconvert_exporter": "python",
   "pygments_lexer": "ipython3",
   "version": "3.7.6"
  }
 },
 "nbformat": 4,
 "nbformat_minor": 4
}
