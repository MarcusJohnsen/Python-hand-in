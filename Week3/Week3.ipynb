{
 "cells": [
  {
   "cell_type": "markdown",
   "metadata": {},
   "source": [
    "## Ex 1 Classes\n",
    "1. Create 3 classes: Student, DataSheet and Course\n",
    "2. A student has a data_sheet and a data_sheet has multiple courses in particular order\n",
    "3. Each course has name, classroom, teacher, ETCS and optional grade if course is taken.\n",
    "4. In Student create __init__() so that a Student can be initiated with name, gender, data_sheet and image_url\n",
    "5. In DataSheet create a method to get_grades_as_list()\n",
    "6. In student create a method: get_avg_grade()\n",
    "7. Create a function that can generate n number of students with random: name, gender, courses (from a fixed list of course names), grades, img_url\n",
    "   1. Let the function write the result to a csv file with format stud_name, course_name, teacher, ects, classroom, grade, img_url\n",
    "7. Read student data into a list of Students from a csv file: \n",
    "   1. loop through the list and print each student with name, img_url and avg_grade.\n",
    "   2. sort the list by avg_grade\n",
    "   3. create a bar chart with student_name on x and avg_grade on y-axis\n",
    "8. Make a method on Student class that can show progression of the study in % (add up ECTS from all passed courses divided by total of 150 total points (equivalent to 5 semesters))\n",
    "9. Show a bar chart of distribution of study progression on x-axis and number of students in each category on y-axis. (e.g. make 10 categories from 0-100%)"
   ]
  },
  {
   "cell_type": "code",
   "execution_count": 54,
   "metadata": {},
   "outputs": [],
   "source": [
    "class Course:\n",
    "    def __init__(self, name, classroom, teacher, ECTS, grade):\n",
    "        self.name = name\n",
    "        self.classroom = classroom\n",
    "        self.teacher = teacher\n",
    "        self.ECTS = ECTS\n",
    "        self.grade = grade\n",
    "\n",
    "    def __str__(self):\n",
    "        return \"{name}, classroom: {room}, teacher: {teacher}, ECTS: {ECTS}, grade: {grade}\".format(\n",
    "            name=self.name,\n",
    "            room=self.classroom,\n",
    "            teacher=self.teacher,\n",
    "            ECTS=self.ECTS,\n",
    "            grade=self.grade,\n",
    "        )    \n",
    "    \n",
    "    \n",
    "    def __repr__(self):\n",
    "        return '%r, %r, %r, %r, %r' % (self.name, self.classroom, self.teacher, self.ECTS, self.grade)"
   ]
  },
  {
   "cell_type": "code",
   "execution_count": 55,
   "metadata": {},
   "outputs": [],
   "source": [
    "class DataSheet:\n",
    "    def __init__(self, courses: list):\n",
    "        self.courses = courses\n",
    "\n",
    "\n",
    "    def __str__(self):\n",
    "        return '{courses}'.format(\n",
    "            courses = self.courses\n",
    "        )    \n",
    "    \n",
    "    def __repr__(self):\n",
    "        return '%r' % (self.courses)\n",
    "\n",
    "    def grades_as_list(self):\n",
    "        result_list = []\n",
    "        for course in self.courses:\n",
    "            result_list.append(course.grade)\n",
    "        return result_list\n",
    "\n",
    "    def ects_as_list(self):\n",
    "        list_ects = []\n",
    "        for course in self.courses:\n",
    "            list_ects.append(course.ects)\n",
    "        return list_ects"
   ]
  },
  {
   "cell_type": "code",
   "execution_count": 56,
   "metadata": {},
   "outputs": [],
   "source": [
    "class Student:\n",
    "    def __init__(self, name, gender, data_sheet):\n",
    "        self.name = name\n",
    "        self.gender = gender\n",
    "        self.data_sheet = data_sheet\n",
    "        \n",
    "    def __repr__(self):\n",
    "        return '(%r, %r, %r)' % (self.name, self.gender, self.data_sheet)\n",
    "    \n",
    "    def __str__(self):\n",
    "        return 'name: {name}, gender: {gender}, {data_sheet}'.format(name=self.name, gender=self.gender, data_sheet=self.data_sheet)\n",
    "        \n",
    "        \n",
    "    def get_avg_grade(self):\n",
    "        list_of_grades = self.data_sheet.get_grades_as_list()\n",
    "        avg_grade = 0\n",
    "        if list_of_grades > 0:\n",
    "            for grade in list_of_grades:\n",
    "                avg_grade += grade\n",
    "        return (avg_grade/len(list_of_grades))\n",
    "        return avg_grade"
   ]
  },
  {
   "cell_type": "code",
   "execution_count": 57,
   "metadata": {},
   "outputs": [
    {
     "data": {
      "text/plain": [
       "[('Clara', 'other', 'Hindi for beginners', 109, 'Jon Snow', 30, 2),\n",
       " ('Aleksandr', 'Female', 'Applied history in comtemporary times', 109, 'Gandalf', 20, 2),\n",
       " ('Kofi', 'other', 'Samoan culture', 109, 'Michael Jordan', 10, 12),\n",
       " ('Clara', 'Female', 'Applied history in comtemporary times', 205, 'Jon Snow', 25, 10),\n",
       " ('Nick', 'other', 'Hindi for beginners', 109, 'Jon Snow', 15, -3),\n",
       " ('Sara', 'Female', '1800s house building', 211, 'Michael Jordan', 15, 12),\n",
       " ('Sara', 'Male', 'Applied history in comtemporary times', 317, 'Johnny Sins', 20, -3),\n",
       " ('Clara', 'other', 'Hindi for beginners', 109, 'Jon Snow', 10, 2),\n",
       " ('Kofi', 'Male', 'Samoan culture', 211, 'Ronaldinho', 10, 4),\n",
       " ('Michael', 'Male', 'Applied history in comtemporary times', 211, 'Gandalf', 20, 0),\n",
       " ('Aleksandr', 'Male', '1800s house building', 109, 'Ronaldinho', 30, 2),\n",
       " ('Aleksandr', 'Male', 'Applied history in comtemporary times', 113, 'Michael Jordan', 5, 0),\n",
       " ('Kevin', 'other', 'Hindi for beginners', 113, 'Gandalf', 25, 0),\n",
       " ('Joe', 'other', 'Hindi for beginners', 205, 'Ronaldinho', 30, 2),\n",
       " ('Vladimira', 'other', '1800s house building', 205, 'Gandalf', 30, 0),\n",
       " ('Nick', 'Female', 'Hindi for beginners', 317, 'Johnny Sins', 30, 10),\n",
       " ('Kevin', 'Male', 'Samoan culture', 211, 'Jon Snow', 10, 10),\n",
       " ('Vladimira', 'other', 'Applied history in comtemporary times', 113, 'Michael Jordan', 10, 2),\n",
       " ('Nick', 'Female', 'Applied history in comtemporary times', 113, 'Jon Snow', 5, 0),\n",
       " ('Vladimira', 'Male', 'Samoan culture', 317, 'Ronaldinho', 30, 0)]"
      ]
     },
     "execution_count": 57,
     "metadata": {},
     "output_type": "execute_result"
    }
   ],
   "source": [
    "import random\n",
    "\n",
    "def student_generation():\n",
    "\n",
    "    names = [\"Joe\", \"Nick\", \"Kevin\", \"Sebastian\", \"Sara\", \"Clara\", \"Aleksandr\", \"Michael\", \"Vladimira\", \"Kofi\"]\n",
    "    genders = [\"Male\", \"Female\", \"other\"]\n",
    "    courses = [\"Gender Studies\", \"Hindi for beginners\", \"Applied history in comtemporary times\", \"1800s house building\" , \"Samoan culture\"]\n",
    "    classrooms = [113, 211, 317, 109, 205]\n",
    "    teachers = ['Jon Snow', 'Johnny Sins', 'Ronaldinho', 'Michael Jordan', 'Gandalf']\n",
    "    ECTS = [5,10,15,20,25,30]\n",
    "    grades = (-3, 0, 2, 4, 7, 10, 12)\n",
    "\n",
    "    student_count = 0\n",
    "    student_list = []\n",
    "\n",
    "    while student_count < 20:\n",
    "        random_name = random.choice(names)\n",
    "        random_gender = random.choice(genders)\n",
    "        random_course = random.choice(courses)\n",
    "        random_classroom = random.choice(classrooms)\n",
    "        random_teacher = random.choice(teachers)\n",
    "        random_ECTS = random.choice(ECTS)\n",
    "        random_grade = random.choice(grades)\n",
    "\n",
    "        course = Course(random_course, random_classroom, random_teacher, random_ECTS, random_grade)\n",
    "        datasheet = DataSheet(course)\n",
    "\n",
    "        student = Student(random_name, random_gender, datasheet)\n",
    "        student_list.append((student))\n",
    "        student_count +=1\n",
    "    \n",
    "    return student_list\n",
    "    \n",
    "    \n",
    "student_generation()"
   ]
  },
  {
   "cell_type": "code",
   "execution_count": 59,
   "metadata": {},
   "outputs": [],
   "source": [
    "def random_students_in_CSV():\n",
    "    \n",
    "    students = student_generation()\n",
    "    \n",
    "    with open(\"students.csv\", \"w\") as file:\n",
    "        file.write(\n",
    "            \"stud_name, course_name, teacher, ects, classroom, grade\"\n",
    "        )\n",
    "        for s in students:\n",
    "                file.write(\n",
    "                \"{name}, {gender}, {course}, {teacher}, {ECTS}, {classroom}, {grade}\".format(\n",
    "                    name = s.name,\n",
    "                    gender = s.gender,               \n",
    "                    course = s.datasheet.name,\n",
    "                    teacher= s.datasheet.courses.teacher,\n",
    "                    ECTS = s.datasheet.courses.ECTS,\n",
    "                    classroom = s.datasheet.courses.classroom,\n",
    "                    grade = s.datasheet.courses.grade,\n",
    "                    )\n",
    "                ) "
   ]
  },
  {
   "cell_type": "code",
   "execution_count": 65,
   "metadata": {},
   "outputs": [],
   "source": [
    "def students_by_average_grade(students):\n",
    "    sorted_by_grade_list = sorted(students, key=lambda student: student.get_avg_grade(), reverse=True)\n",
    "    return sorted_by_grade_list"
   ]
  },
  {
   "cell_type": "code",
   "execution_count": 72,
   "metadata": {},
   "outputs": [],
   "source": [
    "import matplotlib.pyplot as plt \n",
    "\n",
    "def bar_plot_student_grades(student):\n",
    "    names = [student.name[0] for student in sorted_by_grade_list]\n",
    "    grades = [student.get_avg_grade() for student in sorted_by_grade_list]\n",
    "    \n",
    "    plt.bar(names, grades, width=0.2, align='center')\n",
    "    plt.title(\"Average Students\", fontsize=20)\n",
    "    plt.xlabel(\"Names\", fontsize=12)\n",
    "    plt.ylabel(\"Average Grades\", fontsize=12)\n",
    "    plt.show()\n",
    "    "
   ]
  }
 ],
 "metadata": {
  "kernelspec": {
   "display_name": "Python 3",
   "language": "python",
   "name": "python3"
  },
  "language_info": {
   "codemirror_mode": {
    "name": "ipython",
    "version": 3
   },
   "file_extension": ".py",
   "mimetype": "text/x-python",
   "name": "python",
   "nbconvert_exporter": "python",
   "pygments_lexer": "ipython3",
   "version": "3.7.6"
  }
 },
 "nbformat": 4,
 "nbformat_minor": 4
}
