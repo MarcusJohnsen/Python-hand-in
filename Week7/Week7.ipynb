{
 "cells": [
  {
   "cell_type": "markdown",
   "metadata": {},
   "source": [
    "# Week 7\n",
    "\n",
    "Data from https://www.dr.dk/"
   ]
  },
  {
   "cell_type": "markdown",
   "metadata": {},
   "source": [
    "Use webscrabing to find out how many headlines contain the word 'corona'."
   ]
  },
  {
   "cell_type": "code",
   "execution_count": 24,
   "metadata": {
    "scrolled": true
   },
   "outputs": [
    {
     "name": "stdout",
     "output_type": "stream",
     "text": [
      "amount of headlines containing the word 'corona' is:  5\n",
      "\n",
      "all headlines containing the word 'corona' printed out:\n",
      " [\"Ingen af Hjulmands 'englændere' har coronavirus \", 'Kø til coronatests i Illinois, hvor smittetallet fortsætter med at stige ', \"Ugens klimaoverblik:  'Holdet' bliver genvalgt, og grøn energi trodser corona   \", 'Efter kontrolbesøg:  Ny minkavler mistænkt for at have indsendt falsk coronaprøve ', 'Efter kontrolbesøg:  Ny minkavler mistænkt for at have indsendt falsk coronaprøve ']\n"
     ]
    }
   ],
   "source": [
    "import bs4\n",
    "import requests\n",
    "\n",
    "url = requests.get('https://www.dr.dk/')\n",
    "url.raise_for_status()\n",
    "soup = bs4.BeautifulSoup(url.text, 'html.parser')\n",
    "\n",
    "all_headlines = []\n",
    "corona_headlines = []\n",
    "\n",
    "headlines = soup.select('a')\n",
    "for headline in headlines:\n",
    "    all_headlines.append(headline.getText())\n",
    "for headline in all_headlines:\n",
    "    if('corona' in headline):\n",
    "        corona_headlines.append(headline)\n",
    "        \n",
    "print(\"amount of headlines containing the word 'corona' is: \", len(corona_headlines))\n",
    "print (\"\\nall headlines containing the word 'corona' printed out:\\n\", corona_headlines)"
   ]
  },
  {
   "cell_type": "markdown",
   "metadata": {},
   "source": [
    "Use regex to make a list of all words that occur just before and just after coronavirus in the article at https://www.dr.dk/nyheder/indland/status-paa-coronavirus-lige-nu. As in \"... xxx coronavirus yyy...\" find the words xxx and yyy."
   ]
  },
  {
   "cell_type": "code",
   "execution_count": 29,
   "metadata": {},
   "outputs": [
    {
     "name": "stdout",
     "output_type": "stream",
     "text": [
      "All words occuring before and after 'coronavirus' in the article:\n",
      " [('på', 'lige'), ('på', 'lige'), ('om', 'i'), ('på', 'i'), ('mod', 'og')]\n"
     ]
    }
   ],
   "source": [
    "import re\n",
    "\n",
    "url = requests.get('https://www.dr.dk/nyheder/indland/status-paa-coronavirus-lige-nu')\n",
    "url.raise_for_status()\n",
    "soup = bs4.BeautifulSoup(url.text, 'html.parser')\n",
    "\n",
    "words_before_and_after = re.compile(r'(\\w+) coronavirus (\\w+)')\n",
    "result = words_before_and_after.findall(soup.text)\n",
    "\n",
    "print(\"All words occuring before and after 'coronavirus' in the article:\\n\", result)"
   ]
  },
  {
   "cell_type": "markdown",
   "metadata": {},
   "source": [
    "How many hrefs link to a sub page on dr.dk/nyheder/..., dr.dk/sporten/..., dr.dk/mad/... and dr.dk/musik/... Make a pie chart to show the amount of sports news, food news, music news and regular news."
   ]
  },
  {
   "cell_type": "code",
   "execution_count": 46,
   "metadata": {},
   "outputs": [
    {
     "data": {
      "image/png": "[encoded data removed]",
      "text/plain": [
       "<Figure size 432x288 with 1 Axes>"
      ]
     },
     "metadata": {},
     "output_type": "display_data"
    }
   ],
   "source": [
    "import matplotlib.pyplot as plt\n",
    "\n",
    "dr_nyheder = re.compile(r'dr.dk/nyheder/')\n",
    "dr_sporten = re.compile(r'dr.dk/sporten/')\n",
    "dr_mad = re.compile(r'dr.dk/mad/')\n",
    "dr_musik = re.compile(r'dr.dk/musik/')\n",
    "\n",
    "nyheder = len(dr_nyheder.findall(url.text))\n",
    "sporten = len(dr_sporten.findall(url.text))\n",
    "mad = len(dr_mad.findall(url.text))\n",
    "musik = len(dr_musik.findall(url.text))\n",
    "\n",
    "labels = 'Nyheder', 'Sporten', 'Mad', 'Musik'\n",
    "articles_lists = [nyheder, sporten, mad, musik] \n",
    "explode = (0, 0, 0, 0)\n",
    " \n",
    "plt.pie(articles_lists, explode=explode, labels=labels, autopct='%1.1f%%')\n",
    "plt.axis('equal')\n",
    "plt.show()"
   ]
  }
 ],
 "metadata": {
  "kernelspec": {
   "display_name": "Python 3",
   "language": "python",
   "name": "python3"
  },
  "language_info": {
   "codemirror_mode": {
    "name": "ipython",
    "version": 3
   },
   "file_extension": ".py",
   "mimetype": "text/x-python",
   "name": "python",
   "nbconvert_exporter": "python",
   "pygments_lexer": "ipython3",
   "version": "3.7.6"
  }
 },
 "nbformat": 4,
 "nbformat_minor": 4
}
