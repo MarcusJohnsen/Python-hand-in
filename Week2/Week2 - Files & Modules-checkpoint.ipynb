{
 "cells": [
  {
   "cell_type": "markdown",
   "metadata": {},
   "source": [
    "# Exercise 1"
   ]
  },
  {
   "cell_type": "markdown",
   "metadata": {},
   "source": [
    "Create a program that can take an input and an output file and write the content of the input file into a list, the console or to the output file."
   ]
  },
  {
   "cell_type": "code",
   "execution_count": 240,
   "metadata": {},
   "outputs": [
    {
     "name": "stdout",
     "output_type": "stream",
     "text": [
      "None\n"
     ]
    }
   ],
   "source": [
    "#Writes \"hej med dig!\" which is written in input in the output file as well.\n",
    "def from_input_to_output(input_file, output_file):\n",
    "    with open(input_file) as f:\n",
    "        with open(output_file, 'w') as f1:\n",
    "            for line in f:\n",
    "                f1.write(line)\n",
    "                \n",
    "print(from_input_to_output('InputFilTilPython.txt', 'OutputFilTilPython.txt'))"
   ]
  },
  {
   "cell_type": "markdown",
   "metadata": {},
   "source": [
    "Write a python file with 3 functions:\n",
    "\n",
    "1. def print_file_content(file) that can print content of a text file to the console\n",
    "2. def write_list_to_file(output_file, lst) that can take a list or tuple and write each element to a new line in file\n",
    " - A. create a helper function that gets an arbitrary number of strings instead of a list\n",
    " 3. def read_file(input_file) that take a csv file and read each row into a list"
   ]
  },
  {
   "cell_type": "code",
   "execution_count": 18,
   "metadata": {
    "scrolled": true
   },
   "outputs": [
    {
     "name": "stdout",
     "output_type": "stream",
     "text": [
      "gnu.txt\n",
      "README.md\n",
      "\n"
     ]
    },
    {
     "data": {
      "text/plain": [
       "[['Jeg', ' er', ' en'], ['csv', ' fil']]"
      ]
     },
     "execution_count": 18,
     "metadata": {},
     "output_type": "execute_result"
    }
   ],
   "source": [
    "#Print from the file \"OutputFilTilPython.txt\"\n",
    "def print_file_content(file):        \n",
    "    with open(file) as file_object:\n",
    "        File_Content = file_object.read() \n",
    "        print(File_Content)\n",
    "        \n",
    "print_file_content('OutputFilTilPython.txt')\n",
    "       \n",
    "    \n",
    "#Replaces the content of the \"OutputFilTilPython.txt\" file and writes \"Batman is pretty cool\" instead.\n",
    "my_list = [\"Bat\", \"man \", \"is \", \"pretty \", \"cool\"]\n",
    "def write_list_to_file(output_file, lst):\n",
    "    with open(output_file, 'w') as file_object:\n",
    "        for line in lst:\n",
    "            file_object.write(line)\n",
    "        \n",
    "write_list_to_file('OutputFilTilPython.txt', my_list)\n",
    "\n",
    "\n",
    "\n",
    "#Gives 2 strings (could be more) as arguments to the file\n",
    "min_streng = \"2 + 2 \"\n",
    "min_anden_streng = \"er 4\"\n",
    "def write_list_to_file_helper(output_file, astr):\n",
    "    with open(output_file) as file_object:\n",
    "        file_object.write(astr)\n",
    "\n",
    "write_list_to_file('OutputFilTilPython.txt', min_streng+min_anden_streng)\n",
    "\n",
    "\n",
    "#Reads the csv (excel) file as two lists (cuz there are 2 lines in the csv file)\n",
    "def read_file(input_file):\n",
    "    with open(input_file) as file_object:\n",
    "        file = file_object.readlines()\n",
    "        file_list = []\n",
    "        \n",
    "    for line in file:\n",
    "        file_list.append(line.rstrip().split(','))\n",
    "        \n",
    "    return file_list\n",
    "\n",
    "read_file('CsvFilTilPython.csv')"
   ]
  },
  {
   "cell_type": "markdown",
   "metadata": {},
   "source": [
    "Add a functionality so that the program can be called from cli with 2 arguments\n",
    "\n",
    "1. path to input file\n",
    "2. an argument --file file_name to be used as the output file to write to.\n",
    "3. if only the input file is given write output to console\n",
    "4. if the input file is given with a list of extra words add those words to the output (whether to file or console)"
   ]
  },
  {
   "cell_type": "code",
   "execution_count": 25,
   "metadata": {},
   "outputs": [
    {
     "ename": "SyntaxError",
     "evalue": "invalid syntax (<ipython-input-25-5971a3882d0b>, line 19)",
     "output_type": "error",
     "traceback": [
      "\u001b[0;36m  File \u001b[0;32m\"<ipython-input-25-5971a3882d0b>\"\u001b[0;36m, line \u001b[0;32m19\u001b[0m\n\u001b[0;31m    parser.add_argument('--file', 'file_name' help='output file')\u001b[0m\n\u001b[0m                                                 ^\u001b[0m\n\u001b[0;31mSyntaxError\u001b[0m\u001b[0;31m:\u001b[0m invalid syntax\n"
     ]
    }
   ],
   "source": [
    "import argparse\n",
    "parser = argparse.ArgumentParser(description='Add a functionality so that the program can be called from cli with 2 arguments')\n",
    "\n",
    "def print_file(file):\n",
    "    with open(file,'r') as file_object:\n",
    "        text = file_object.read()\n",
    "        print(text)\n",
    "\n",
    "def list_to_file(output_file, lst):\n",
    "    with open(output_file) as file_object:\n",
    "        file_object.write(lst)\n",
    "        \n",
    "def read_file(input_file):\n",
    "    with open(input_file) as file_object:\n",
    "        return file_object.read()\n",
    "\n",
    "if __name__ == '__main__':\n",
    "    parser.add_argument('inputFile', help='input file')\n",
    "    parser.add_argument('--file', 'file_name' help='output file')\n",
    "    args = parser.parse_args()\n",
    "    \n",
    "    if args.file_name:\n",
    "        list_to_file(args.file_name,read_file(args.inputFile))\n",
    "        \n",
    "    else:\n",
    "        print_file(args.inputFile)"
   ]
  },
  {
   "cell_type": "markdown",
   "metadata": {},
   "source": [
    "Add 'help' attributes to each cli argument to describe how the module is used"
   ]
  },
  {
   "cell_type": "markdown",
   "metadata": {},
   "source": [
    "# Exercise 2"
   ]
  },
  {
   "cell_type": "markdown",
   "metadata": {},
   "source": [
    "Create a module called utils.py and put the following functions inside:\n",
    "\n",
    "1. first function takes a path to a folder and writes all filenames in the folder to a specified output file\n",
    "2. second takes a path to a folder and write all filenames recursively (files of all sub folders to)\n",
    "3. third takes a list of filenames and print the first line of each\n",
    "4. fourth takes a list of filenames and print each line that contains an email (just look for @)\n",
    "5. fifth takes a list of md files and writes all headlines (lines starting with #) to a file"
   ]
  },
  {
   "cell_type": "markdown",
   "metadata": {},
   "source": [
    "Make sure your module can be called both from cli and imported to another module"
   ]
  },
  {
   "cell_type": "markdown",
   "metadata": {},
   "source": [
    "Create a new module that imports utils.py and test each function."
   ]
  },
  {
   "cell_type": "code",
   "execution_count": 17,
   "metadata": {
    "scrolled": false
   },
   "outputs": [
    {
     "ename": "TabError",
     "evalue": "inconsistent use of tabs and spaces in indentation (utils.py, line 14)",
     "output_type": "error",
     "traceback": [
      "Traceback \u001b[0;36m(most recent call last)\u001b[0m:\n",
      "  File \u001b[1;32m\"/opt/conda/lib/python3.7/site-packages/IPython/core/interactiveshell.py\"\u001b[0m, line \u001b[1;32m3331\u001b[0m, in \u001b[1;35mrun_code\u001b[0m\n    exec(code_obj, self.user_global_ns, self.user_ns)\n",
      "\u001b[0;36m  File \u001b[0;32m\"<ipython-input-17-73a9663ef49e>\"\u001b[0;36m, line \u001b[0;32m1\u001b[0;36m, in \u001b[0;35m<module>\u001b[0;36m\u001b[0m\n\u001b[0;31m    import utils as Utils\u001b[0m\n",
      "\u001b[0;36m  File \u001b[0;32m\"/home/jovyan/my_notebooks/utils.py\"\u001b[0;36m, line \u001b[0;32m14\u001b[0m\n\u001b[0;31m    low_path = os.path.join(path, file)\u001b[0m\n\u001b[0m                                       ^\u001b[0m\n\u001b[0;31mTabError\u001b[0m\u001b[0;31m:\u001b[0m inconsistent use of tabs and spaces in indentation\n"
     ]
    }
   ],
   "source": [
    "import utils as Utils\n",
    "\n",
    "#1\n",
    "Utils.first(\"./utils.py_folder\", \"OutputFilTilPython.txt\")\n",
    "\n",
    "#2\n",
    "Utils.second(\"./\", \"OutputFilTilPython.txt\")\n",
    "\n",
    "#3\n",
    "Utils.third([\"./utils.py_folder/gnu.txt\", \"./utils.py_folder/HEADLINES.md\"])\n",
    "\n",
    "#4\n",
    "Utils.fourth([\"./utils.py_folder/emails.txt\", \"./utils.py_folder/gnu.txt\"])\n",
    "\n",
    "#5\n",
    "Utils.fifth([\"./utils.py_folder/README.md\", \"./utils.py_folder/HEADLINES.md\"], \"OutputFilTilPython.txt\")"
   ]
  }
 ],
 "metadata": {
  "kernelspec": {
   "display_name": "Python 3",
   "language": "python",
   "name": "python3"
  },
  "language_info": {
   "codemirror_mode": {
    "name": "ipython",
    "version": 3
   },
   "file_extension": ".py",
   "mimetype": "text/x-python",
   "name": "python",
   "nbconvert_exporter": "python",
   "pygments_lexer": "ipython3",
   "version": "3.7.6"
  }
 },
 "nbformat": 4,
 "nbformat_minor": 4
}
