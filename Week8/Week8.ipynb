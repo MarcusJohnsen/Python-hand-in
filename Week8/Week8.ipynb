{
 "cells": [
  {
   "cell_type": "markdown",
   "metadata": {},
   "source": [
    "# Week 8\n",
    "Make a few person objects. A person only has an id and a name. perform atleast 1 of each CRUD operation with the person objects. (GET,POST,DEL,PUT)\n",
    "\n",
    "This assignment was completed locally. Refer to flask_app.py in the folder"
   ]
  },
  {
   "cell_type": "markdown",
   "metadata": {},
   "source": [
    "With pandas or any other tool you like, extract data from pokemon_data.csv\n",
    "\n",
    "Make a dict showing us each type1 there is, and how many times that type was represented."
   ]
  },
  {
   "cell_type": "code",
   "execution_count": 90,
   "metadata": {},
   "outputs": [
    {
     "name": "stdout",
     "output_type": "stream",
     "text": [
      "{'Grass': 70, 'Fire': 52, 'Water': 112, 'Bug': 69, 'Normal': 98, 'Poison': 28, 'Electric': 44, 'Ground': 32, 'Fairy': 17, 'Fighting': 27, 'Psychic': 57, 'Rock': 44, 'Ghost': 32, 'Ice': 24, 'Dragon': 32, 'Dark': 31, 'Steel': 27, 'Flying': 4}\n"
     ]
    }
   ],
   "source": [
    "import pandas as pd\n",
    "all_pokemons = pd.read_csv('pokemon_data.csv')\n",
    "\n",
    "type1 = pd.DataFrame(all_pokemons, columns= ['Type 1'])\n",
    "\n",
    "type1_list = []\n",
    "for t, p in type1.iterrows():\n",
    "    type1_list.append((p['Type 1']))\n",
    "\n",
    "result = dict.fromkeys(type1_list, 0)\n",
    "for element in type1_list:\n",
    "    for type in result:\n",
    "        if element == type:\n",
    "            count = result[type]\n",
    "            count +=1\n",
    "            result[type] = count\n",
    "\n",
    "print(result)"
   ]
  },
  {
   "cell_type": "markdown",
   "metadata": {},
   "source": [
    "Do the same but now check type2 aswell, there are duplicates but leave that for the next task (Poison is found in both type1 and type2)"
   ]
  },
  {
   "cell_type": "code",
   "execution_count": 61,
   "metadata": {},
   "outputs": [
    {
     "name": "stdout",
     "output_type": "stream",
     "text": [
      "{'Grass': 95, 'Fire': 64, 'Water': 126, 'Bug': 72, 'Normal': 102, 'Poison': 62, 'Electric': 50, 'Ground': 67, 'Fairy': 40, 'Fighting': 53, 'Psychic': 90, 'Rock': 58, 'Ghost': 46, 'Ice': 38, 'Dragon': 50, 'Dark': 51, 'Steel': 49, 'Flying': 101, nan: 0}\n"
     ]
    }
   ],
   "source": [
    "all_pokemons = pd.read_csv('pokemon_data.csv')\n",
    "\n",
    "type2 = pd.DataFrame(all_pokemons, columns = ['Type 2'])\n",
    "\n",
    "type2_list = []\n",
    "for t, p in type2.iterrows():\n",
    "    type2_list.append((p['Type 2']))\n",
    "    \n",
    "typex_list = type1_list\n",
    "for type in type2_list:\n",
    "  typex_list.append(type)\n",
    "\n",
    "result_all = dict.fromkeys(typex_list, 0)\n",
    "for element in typex_list:\n",
    "  for type in result_all:\n",
    "    if element == type:\n",
    "      count = result_all[type]\n",
    "      count +=1\n",
    "      result_all[type] = count\n",
    "\n",
    "print(result_all)"
   ]
  },
  {
   "cell_type": "markdown",
   "metadata": {},
   "source": [
    "Filter the results so duplicates no longer count twice, make a bar chart of the results. X-axis should show names and Y-axis should show how many."
   ]
  },
  {
   "cell_type": "code",
   "execution_count": 91,
   "metadata": {},
   "outputs": [
    {
     "data": {
      "image/png": "[encoded data removed]",
      "text/plain": [
       "<Figure size 432x288 with 1 Axes>"
      ]
     },
     "metadata": {
      "needs_background": "light"
     },
     "output_type": "display_data"
    }
   ],
   "source": [
    "import matplotlib.pyplot as plt\n",
    "\n",
    "sorted_types = sorted(result_all.items(), key=lambda x:x[1], reverse=True)\n",
    "\n",
    "x = []\n",
    "y = []\n",
    "for p in sorted_types:\n",
    "   x.append(str(p[0]))\n",
    "   y.append(p[1])\n",
    "\n",
    "plt.bar(x, y)\n",
    "\n",
    "plt.title(\"Pokemon types\", fontsize=20)\n",
    "plt.xlabel(\"Type\", fontsize=18)\n",
    "plt.ylabel(\"amount\", fontsize=18)\n",
    "plt.xticks(rotation=90)\n",
    "plt.show()"
   ]
  },
  {
   "cell_type": "code",
   "execution_count": null,
   "metadata": {},
   "outputs": [],
   "source": []
  }
 ],
 "metadata": {
  "kernelspec": {
   "display_name": "Python 3",
   "language": "python",
   "name": "python3"
  },
  "language_info": {
   "codemirror_mode": {
    "name": "ipython",
    "version": 3
   },
   "file_extension": ".py",
   "mimetype": "text/x-python",
   "name": "python",
   "nbconvert_exporter": "python",
   "pygments_lexer": "ipython3",
   "version": "3.7.6"
  }
 },
 "nbformat": 4,
 "nbformat_minor": 4
}
